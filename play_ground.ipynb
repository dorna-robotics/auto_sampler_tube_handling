{
 "cells": [
  {
   "cell_type": "markdown",
   "id": "e71ecdf7",
   "metadata": {},
   "source": [
    "# Vision app"
   ]
  },
  {
   "cell_type": "code",
   "execution_count": 3,
   "id": "6dc665aa",
   "metadata": {},
   "outputs": [
    {
     "ename": "KeyboardInterrupt",
     "evalue": "",
     "output_type": "error",
     "traceback": [
      "\u001b[0;31m---------------------------------------------------------------------------\u001b[0m",
      "\u001b[0;31mKeyboardInterrupt\u001b[0m                         Traceback (most recent call last)",
      "Cell \u001b[0;32mIn[3], line 2\u001b[0m\n\u001b[1;32m      1\u001b[0m get_ipython()\u001b[38;5;241m.\u001b[39mrun_line_magic(\u001b[38;5;124m'\u001b[39m\u001b[38;5;124mmatplotlib\u001b[39m\u001b[38;5;124m'\u001b[39m, \u001b[38;5;124m'\u001b[39m\u001b[38;5;124mwidget\u001b[39m\u001b[38;5;124m'\u001b[39m)\n\u001b[0;32m----> 2\u001b[0m \u001b[38;5;28;01mfrom\u001b[39;00m \u001b[38;5;21;01mdorna_vision\u001b[39;00m \u001b[38;5;28;01mimport\u001b[39;00m Detection_app\n\u001b[1;32m      3\u001b[0m x \u001b[38;5;241m=\u001b[39m Detection_app()\n",
      "File \u001b[0;32m/usr/local/lib/python3.11/dist-packages/dorna_vision/__init__.py:3\u001b[0m\n\u001b[1;32m      1\u001b[0m \u001b[38;5;28;01mfrom\u001b[39;00m \u001b[38;5;21;01m.\u001b[39;00m\u001b[38;5;21;01mai\u001b[39;00m \u001b[38;5;28;01mimport\u001b[39;00m \u001b[38;5;241m*\u001b[39m\n\u001b[1;32m      2\u001b[0m \u001b[38;5;28;01mfrom\u001b[39;00m \u001b[38;5;21;01m.\u001b[39;00m\u001b[38;5;21;01mboard\u001b[39;00m \u001b[38;5;28;01mimport\u001b[39;00m \u001b[38;5;241m*\u001b[39m\n\u001b[0;32m----> 3\u001b[0m \u001b[38;5;28;01mfrom\u001b[39;00m \u001b[38;5;21;01m.\u001b[39;00m\u001b[38;5;21;01mcalibration\u001b[39;00m \u001b[38;5;28;01mimport\u001b[39;00m \u001b[38;5;241m*\u001b[39m\n\u001b[1;32m      4\u001b[0m \u001b[38;5;28;01mfrom\u001b[39;00m \u001b[38;5;21;01m.\u001b[39;00m\u001b[38;5;21;01mdetect\u001b[39;00m \u001b[38;5;28;01mimport\u001b[39;00m \u001b[38;5;241m*\u001b[39m\n\u001b[1;32m      5\u001b[0m \u001b[38;5;28;01mfrom\u001b[39;00m \u001b[38;5;21;01m.\u001b[39;00m\u001b[38;5;21;01mdraw\u001b[39;00m \u001b[38;5;28;01mimport\u001b[39;00m \u001b[38;5;241m*\u001b[39m\n",
      "File \u001b[0;32m/usr/local/lib/python3.11/dist-packages/dorna_vision/calibration.py:3\u001b[0m\n\u001b[1;32m      1\u001b[0m \u001b[38;5;28;01mimport\u001b[39;00m \u001b[38;5;21;01mcv2\u001b[39;00m \u001b[38;5;28;01mas\u001b[39;00m \u001b[38;5;21;01mcv\u001b[39;00m\n\u001b[1;32m      2\u001b[0m \u001b[38;5;28;01mimport\u001b[39;00m \u001b[38;5;21;01mnumpy\u001b[39;00m \u001b[38;5;28;01mas\u001b[39;00m \u001b[38;5;21;01mnp\u001b[39;00m\n\u001b[0;32m----> 3\u001b[0m \u001b[38;5;28;01mfrom\u001b[39;00m \u001b[38;5;21;01mscipy\u001b[39;00m\u001b[38;5;21;01m.\u001b[39;00m\u001b[38;5;21;01moptimize\u001b[39;00m \u001b[38;5;28;01mimport\u001b[39;00m differential_evolution\n\u001b[1;32m      6\u001b[0m \u001b[38;5;124;03m\"\"\"\u001b[39;00m\n\u001b[1;32m      7\u001b[0m \u001b[38;5;124;03mhelper functions\u001b[39;00m\n\u001b[1;32m      8\u001b[0m \u001b[38;5;124;03m\"\"\"\u001b[39;00m\n\u001b[1;32m      9\u001b[0m \u001b[38;5;28;01mdef\u001b[39;00m \u001b[38;5;21meuler_matrix\u001b[39m(abg,xyz):\n",
      "File \u001b[0;32m/usr/local/lib/python3.11/dist-packages/scipy/optimize/__init__.py:431\u001b[0m\n\u001b[1;32m    429\u001b[0m \u001b[38;5;28;01mfrom\u001b[39;00m \u001b[38;5;21;01m.\u001b[39;00m\u001b[38;5;21;01m_differentialevolution\u001b[39;00m \u001b[38;5;28;01mimport\u001b[39;00m differential_evolution\n\u001b[1;32m    430\u001b[0m \u001b[38;5;28;01mfrom\u001b[39;00m \u001b[38;5;21;01m.\u001b[39;00m\u001b[38;5;21;01m_lsq\u001b[39;00m \u001b[38;5;28;01mimport\u001b[39;00m least_squares, lsq_linear\n\u001b[0;32m--> 431\u001b[0m \u001b[38;5;28;01mfrom\u001b[39;00m \u001b[38;5;21;01m.\u001b[39;00m\u001b[38;5;21;01m_isotonic\u001b[39;00m \u001b[38;5;28;01mimport\u001b[39;00m isotonic_regression\n\u001b[1;32m    432\u001b[0m \u001b[38;5;28;01mfrom\u001b[39;00m \u001b[38;5;21;01m.\u001b[39;00m\u001b[38;5;21;01m_constraints\u001b[39;00m \u001b[38;5;28;01mimport\u001b[39;00m (NonlinearConstraint,\n\u001b[1;32m    433\u001b[0m                            LinearConstraint,\n\u001b[1;32m    434\u001b[0m                            Bounds)\n\u001b[1;32m    435\u001b[0m \u001b[38;5;28;01mfrom\u001b[39;00m \u001b[38;5;21;01m.\u001b[39;00m\u001b[38;5;21;01m_hessian_update_strategy\u001b[39;00m \u001b[38;5;28;01mimport\u001b[39;00m HessianUpdateStrategy, BFGS, SR1\n",
      "File \u001b[0;32m/usr/local/lib/python3.11/dist-packages/scipy/optimize/_isotonic.py:7\u001b[0m\n\u001b[1;32m      4\u001b[0m \u001b[38;5;28;01mimport\u001b[39;00m \u001b[38;5;21;01mnumpy\u001b[39;00m \u001b[38;5;28;01mas\u001b[39;00m \u001b[38;5;21;01mnp\u001b[39;00m\n\u001b[1;32m      6\u001b[0m \u001b[38;5;28;01mfrom\u001b[39;00m \u001b[38;5;21;01m.\u001b[39;00m\u001b[38;5;21;01m_optimize\u001b[39;00m \u001b[38;5;28;01mimport\u001b[39;00m OptimizeResult\n\u001b[0;32m----> 7\u001b[0m \u001b[38;5;28;01mfrom\u001b[39;00m \u001b[38;5;21;01m.\u001b[39;00m\u001b[38;5;21;01m_pava_pybind\u001b[39;00m \u001b[38;5;28;01mimport\u001b[39;00m pava\n\u001b[1;32m      9\u001b[0m \u001b[38;5;28;01mif\u001b[39;00m TYPE_CHECKING:\n\u001b[1;32m     10\u001b[0m     \u001b[38;5;28;01mimport\u001b[39;00m \u001b[38;5;21;01mnumpy\u001b[39;00m\u001b[38;5;21;01m.\u001b[39;00m\u001b[38;5;21;01mtyping\u001b[39;00m \u001b[38;5;28;01mas\u001b[39;00m \u001b[38;5;21;01mnpt\u001b[39;00m\n",
      "\u001b[0;31mKeyboardInterrupt\u001b[0m: "
     ]
    }
   ],
   "source": [
    "%matplotlib widget\n",
    "from dorna_vision import Detection_app\n",
    "x = Detection_app()"
   ]
  },
  {
   "cell_type": "markdown",
   "id": "751c6e84",
   "metadata": {},
   "source": [
    "# Eye in hand calibration"
   ]
  },
  {
   "cell_type": "code",
   "execution_count": null,
   "id": "aa4bbf96",
   "metadata": {},
   "outputs": [
    {
     "name": "stdout",
     "output_type": "stream",
     "text": [
      "{\"cmd\": \"lmove\", \"rel\": 0, \"accel\": 300.0, \"jerk\": 500.0, \"cont\": 0, \"corner\": 50, \"j0\": 81.33915294859935, \"j1\": 35.586706783140656, \"j2\": -105.16652829962112, \"j3\": -7.958078640513122e-13, \"j4\": -20.42017848351952, \"j5\": 81.33915294860009}\n"
     ]
    }
   ],
   "source": [
    "from dorna2 import Dorna\n",
    "from camera import Camera\n",
    "from dorna_vision import Detection\n",
    "import time\n",
    "import json\n",
    "import config\n",
    "#####################\n",
    "import config\n",
    "\n",
    "pxl_list = [[469, 203]]\n",
    "pxl = pxl_list[0]\n",
    "rvec_base = [180, 0, 0]\n",
    "ip = config.robot[\"ip\"]\n",
    "joint_img = config.tube_pick[\"joint\"]+config.tube_pick[\"aux\"]\n",
    "tool = config.two_finger_gripper[\"15ml_cap\"][\"tool\"]\n",
    "preset = {\n",
    "        \"camera_mount\":{\n",
    "            \"type\": \"dorna_ta_j4\",\n",
    "            \"ej\": [0 ,0, 0, 0, 0, 0, 0, 0],\n",
    "            \"T\": [46.5174596+1+1+0+4-(5), 32.0776662-3+1-0-1.5+(-3), -4.24772615-3, -0.27547989, 0.27691881, 89.6939516],\n",
    "        },\n",
    "}\n",
    "sim=0\n",
    "speed = 0.05\n",
    "###### initialization\n",
    "# robot\n",
    "robot = Dorna()\n",
    "robot.connect(ip)\n",
    "\n",
    "# camera\n",
    "camera = Camera()\n",
    "camera.connect()\n",
    "Detection(robot=robot, camera=camera, **config.detection_preset[\"tube\"])\n",
    "# detection\n",
    "d = Detection(robot=robot, camera=camera, **preset)\n",
    "######\n",
    "# go imaging\n",
    "robot.go(joint=joint_img)\n",
    "time.sleep(0.5)\n",
    "\n",
    "# run detection\n",
    "d.run()\n",
    "\n",
    "# get xyz\n",
    "xyz = d.xyz(pxl)\n",
    "xyz[2] +=2\n",
    "\n",
    "# go xyz\n",
    "tvec = xyz+rvec_base\n",
    "retval = robot.go(motion=\"lmove\", pose=tvec, tool=tool, speed=speed, sim=sim)\n",
    "for r in retval:\n",
    "    print(json.dumps(r))\n",
    "\n",
    "robot.close()\n",
    "camera.close()\n",
    "d.close()"
   ]
  },
  {
   "cell_type": "markdown",
   "id": "9aca53c4",
   "metadata": {},
   "source": [
    "# Calibration with joints"
   ]
  },
  {
   "cell_type": "code",
   "execution_count": 1,
   "id": "133373a8",
   "metadata": {},
   "outputs": [
    {
     "name": "stdout",
     "output_type": "stream",
     "text": [
      "[935.4041921014215, -165.4618301041079, 3.7603345785304043, 180.0, 0.0, 0.0]\n",
      "[937.5, -162.5, 0.0, 180.0, 0.0, 0.0]\n",
      "####### target_frame_new ###########\n",
      "[935.4041921014215, -165.4618301041079, 3.7603345785304043, 180.0, 0.0, 0.0]\n",
      "####### target_pose_new ###########\n",
      "[-2.095807898578528, 2.9618301041078894, -3.760334578530404, 0.0, 0.0, 0.0]\n"
     ]
    }
   ],
   "source": [
    "from dorna2 import Dorna\n",
    "from dorna2 import pose as dorna_pose\n",
    "import numpy as np\n",
    "import config\n",
    "\n",
    "# rail config\n",
    "frame_in_world = config.robot[\"frame_in_world\"]\n",
    "base_in_world = config.robot[\"base_in_world\"]\n",
    "aux_dir = config.robot[\"aux_dir\"]\n",
    "\n",
    "def update_robot_frame(config):\n",
    "    config.robot[\"robot_x_world_off\"] = config.robot[\"rail_screw_pos\"] + config.robot[\"rail_screw_diameter\"]/2 - config.robot[\"rail_scew_dist\"] + config.robot[\"robot_base_x\"] + config.robot[\"rail_x_ref\"]\n",
    "    config.robot[\"base_in_world\"][0] = config.robot[\"robot_x_world_off\"]\n",
    "\n",
    "update_robot_frame(config=config)\n",
    "\n",
    "# measured\n",
    "m_joint_rec = {\"cmd\":\"jmove\",\"rel\":0,\"j0\":-37.55127,\"j1\":-16.721191,\"j2\":-56.074219,\"j3\":0,\"j4\":-17.20459,\"j5\":-37.55127,\"j6\":485}\n",
    "m_aux = config.cap_holder[\"aux\"]\n",
    "\n",
    "# target\n",
    "target_aux = config.cap_holder[\"aux\"]\n",
    "target_frame = config.cap_holder[\"frame\"]\n",
    "tool = config.robot_gripper[\"cap_decap\"]\n",
    "target_pose = config.cap_holder[\"pick\"]\n",
    "\n",
    "####### measured\n",
    "m_joint = [m_joint_rec[k] for k in [\"j\"+str(i) for i in range(6)]]\n",
    "robot = Dorna()\n",
    "robot.kinematic.set_tcp_xyzabc(tool)\n",
    "robot.kinematic.fw(m_joint)\n",
    "m_xyzabc = robot.kinematic.fw(m_joint)\n",
    "m_xyzabc_world = dorna_pose.robot_to_frame(robot.kinematic.fw(m_joint), aux=m_aux, aux_dir=aux_dir, base_in_world=base_in_world, frame_in_world = frame_in_world)\n",
    "print(m_xyzabc_world)\n",
    "\n",
    "####### object\n",
    "target_xyzabc_world = dorna_pose.transform_pose(target_pose, from_frame=target_frame, to_frame=[0,0,0,0,0,0])\n",
    "print(target_xyzabc_world)\n",
    "\n",
    "####### recalculate o_frame\n",
    "# ── 2) Build 4×4 transforms for world and local poses ────────────────────\n",
    "T_world = np.array(dorna_pose.xyzabc_to_T(m_xyzabc_world))\n",
    "T_local = np.array(dorna_pose.xyzabc_to_T(target_pose))\n",
    "\n",
    "# ── 3) Solve for the object frame:  T_frame = T_world @ inv(T_local) ─────\n",
    "T_frame = T_world @ np.linalg.inv(T_local)\n",
    "target_frame_np = dorna_pose.T_to_xyzabc(T_frame)\n",
    "target_frame_new = [float(x) for x in target_frame_np]\n",
    "print(\"####### target_frame_new ###########\")\n",
    "print(target_frame_new)\n",
    "\n",
    "#### recalculate target_pose\n",
    "target_pose_new = list(map( float, dorna_pose.transform_pose( m_xyzabc_world, from_frame=[0, 0, 0, 0, 0, 0], to_frame=target_frame)))\n",
    "print(\"####### target_pose_new ###########\")\n",
    "print(target_pose_new)"
   ]
  },
  {
   "cell_type": "markdown",
   "id": "7b59b366",
   "metadata": {},
   "source": [
    "# Rotation"
   ]
  },
  {
   "cell_type": "code",
   "execution_count": 7,
   "id": "c3928421",
   "metadata": {},
   "outputs": [
    {
     "data": {
      "text/plain": [
       "[86.55613616363203, -86.55613578453197, -56.21021181630984]"
      ]
     },
     "execution_count": 7,
     "metadata": {},
     "output_type": "execute_result"
    }
   ],
   "source": [
    "from dorna2 import pose\n",
    "\n",
    "abc = [127.279221,-127.279221,0]\n",
    "\n",
    "# abc = pose.rotate_abc(abc, axis=[1, 0, 0], angle=180, local=True)\n",
    "abc = pose.rotate_abc(abc, axis=[1, 0, 0], angle=-66, local=True)\n",
    "abc"
   ]
  },
  {
   "cell_type": "markdown",
   "id": "41424919",
   "metadata": {},
   "source": [
    "# Go"
   ]
  },
  {
   "cell_type": "code",
   "execution_count": null,
   "id": "83986f8e",
   "metadata": {},
   "outputs": [
    {
     "data": {
      "text/plain": [
       "[{'cmd': 'lmove',\n",
       "  'rel': 0,\n",
       "  'accel': 1200.0,\n",
       "  'jerk': 2000.0,\n",
       "  'cont': 0,\n",
       "  'corner': 50,\n",
       "  'j0': 141.7349335654358,\n",
       "  'j1': 48.88754038426882,\n",
       "  'j2': -79.98482008833054,\n",
       "  'j3': -10.698901419291417,\n",
       "  'j4': -72.36859331669143,\n",
       "  'j5': -168.8100032051365,\n",
       "  'j6': 390.35}]"
      ]
     },
     "execution_count": 2,
     "metadata": {},
     "output_type": "execute_result"
    }
   ],
   "source": [
    "from dorna2 import Dorna\n",
    "import time\n",
    "freedom = {\"num\":50, \"range\":[0.5, 0.5, 0.5], \"early_exit\":True}\n",
    "robot = Dorna()\n",
    "current_joint =  [80.112305, 68.862305, -117.685547, -0.021973, -41.176758, 35.134277, 388.74375]\n",
    "pose =  [-300.4584516808835, 186.73230510526315, 250.1425720414547, -159.00911604446466, 65.86373240657448, -23.19692136401907, 390.35]\n",
    "\n",
    "final_joint = [141.745605, 48.88916, -80.002441, -10.700684, -72.355957, -168.815918, 390.35625]\n",
    "\n",
    "\n",
    "#robot.kinematic.inv(pose[0:6], current_joint[0:6], False, freedom=freedom)\n",
    "robot.go(pose=pose, current_joint=current_joint, motion=\"lmove\", freedom= freedom, cont=0, corner=50, timeout=-1, sim=1)   \n"
   ]
  }
 ],
 "metadata": {
  "kernelspec": {
   "display_name": "Python 3",
   "language": "python",
   "name": "python3"
  },
  "language_info": {
   "codemirror_mode": {
    "name": "ipython",
    "version": 3
   },
   "file_extension": ".py",
   "mimetype": "text/x-python",
   "name": "python",
   "nbconvert_exporter": "python",
   "pygments_lexer": "ipython3",
   "version": "3.9.2"
  }
 },
 "nbformat": 4,
 "nbformat_minor": 5
}
